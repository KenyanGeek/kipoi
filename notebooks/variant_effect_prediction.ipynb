{
 "cells": [
  {
   "cell_type": "markdown",
   "metadata": {},
   "source": [
    "# Variant effect prediction\n",
    "Variant effect prediction offers a simple way to predict effects of SNVs using any model that uses DNA sequence as an input. Many different scoring methods can be chosen, but the principle relies on in-silico mutagenesis. The default input is a VCF and the default output again is a VCF annotated with predictions of variant effects. \n",
    "\n",
    "For details please take a look at the documentation in Postprocessing/Variant effect prediction. This iPython notebook goes through the basic programmatic steps that are needed to preform variant effect prediction. First a variant-centered approach will be taken and secondly overlap-based variant effect prediction will be presented. For details in how this is done programmatically, please refer to the documentation."
   ]
  },
  {
   "cell_type": "markdown",
   "metadata": {},
   "source": [
    "## Variant centered effect prediction\n",
    "Models that accept input `.bed` files can make use of variant-centered effect prediction. This procedure starts out from the query VCF and generates genomic regions of the length of the model input, centered on the individual variant in the VCF.The model dataloader is then used to produce the model input samples for those regions, which are then mutated according to the alleles in the VCF:\n",
    "\n",
    "![img](http://kipoi.org/docs/img/notebooks/simple_var_region_generation.png)\n",
    "\n",
    "First an instance of `SnvCenteredRg` generates a temporary bed file with regions matching the input sequence length defined in the model.yaml input schema. Then the model dataloader is used to preduce the model input in batches. These chunks of data are then modified by the effect prediction algorithm, the model batch prediction function is triggered for all mutated sequence sets and finally the scoring method is applied.\n",
    "\n",
    "The selected scoring methods compare model predicitons for sequences carrying the reference or alternative allele. Those scoring methods can be `Diff` for simple subtraction of prediction, `Logit` for substraction of logit-transformed model predictions, or `DeepSEA_effect` which is a combination of `Diff` and `Logit`, which was published in the Troyanskaya et al. (2015) publication.\n",
    "\n",
    "This ipython notebook assumes that it is executed in an environment in which all dependencies for the  following models are installed: `DeepSEA/vaariantEffects`, `HAL`, `labranchor`, `MaxEntScan`, and `rbp` are installed, as well as the `--vep` flag has to be used during installing the dependencies. Now let's start out by loading the DeepSEA model and dataloader factory:"
   ]
  },
  {
   "cell_type": "code",
   "execution_count": 2,
   "metadata": {},
   "outputs": [
    {
     "name": "stdout",
     "output_type": "stream",
     "text": [
      "Using downloaded and verified file: /home/avsec/.kipoi/models/DeepSEA/variantEffects/downloaded/model_files/weights/35956ab9c28960b5a3693f470fe980c1\n"
     ]
    }
   ],
   "source": [
    "import kipoi\n",
    "model_name = \"DeepSEA/variantEffects\"\n",
    "# get the model\n",
    "model = kipoi.get_model(model_name)\n",
    "# get the dataloader factory\n",
    "Dataloader = model.default_dataloader"
   ]
  },
  {
   "cell_type": "markdown",
   "metadata": {},
   "source": [
    "Next we will have to define the variants we want to look at, let's look at a sample VCF in chromosome 22:"
   ]
  },
  {
   "cell_type": "code",
   "execution_count": 3,
   "metadata": {},
   "outputs": [
    {
     "name": "stdout",
     "output_type": "stream",
     "text": [
      "##fileformat=VCFv4.0\n",
      "##FILTER=<ID=PASS,Description=\"All filters passed\">\n",
      "##contig=<ID=chr1,length=249250621>\n",
      "##contig=<ID=chr2,length=243199373>\n",
      "##contig=<ID=chr3,length=198022430>\n",
      "##contig=<ID=chr4,length=191154276>\n",
      "##contig=<ID=chr5,length=180915260>\n",
      "##contig=<ID=chr6,length=171115067>\n",
      "##contig=<ID=chr7,length=159138663>\n",
      "##contig=<ID=chr8,length=146364022>\n",
      "##contig=<ID=chr9,length=141213431>\n",
      "##contig=<ID=chr10,length=135534747>\n",
      "##contig=<ID=chr11,length=135006516>\n",
      "##contig=<ID=chr12,length=133851895>\n",
      "##contig=<ID=chr13,length=115169878>\n",
      "##contig=<ID=chr14,length=107349540>\n",
      "##contig=<ID=chr15,length=102531392>\n",
      "##contig=<ID=chr16,length=90354753>\n",
      "##contig=<ID=chr17,length=81195210>\n",
      "##contig=<ID=chr18,length=78077248>\n",
      "##contig=<ID=chr19,length=59128983>\n",
      "##contig=<ID=chr20,length=63025520>\n",
      "##contig=<ID=chr21,length=48129895>\n",
      "##contig=<ID=chr22,length=51304566>\n",
      "##contig=<ID=chrX,length=155270560>\n",
      "##contig=<ID=chrY,length=59373566>\n",
      "##contig=<ID=chrMT,length=16569>\n",
      "#CHROM\tPOS\tID\tREF\tALT\tQUAL\tFILTER\tINFO\n",
      "chr22\t41320486\t4\tG\tT\t.\t.\t.\n",
      "chr22\t31009031\t9\tT\tG\t.\t.\t.\n",
      "chr22\t43024150\t15\tC\tG\t.\t.\t.\n",
      "chr22\t43027392\t16\tA\tG\t.\t.\t.\n",
      "chr22\t37469571\t122\tC\tT\t.\t.\t.\n",
      "chr22\t37465112\t123\tC\tG\t.\t.\t.\n",
      "chr22\t37494466\t124\tG\tT\t.\t.\t.\n",
      "chr22\t18561373\t177\tG\tT\t.\t.\t.\n",
      "chr22\t51065593\t241\tC\tT\t.\t.\t.\n",
      "chr22\t51064006\t242\tC\tT\t.\t.\t.\n",
      "chr22\t51065269\t243\tG\tA\t.\t.\t.\n",
      "chr22\t30032866\t260\tG\tT\t.\t.\t.\n"
     ]
    }
   ],
   "source": [
    "!head -n 40 example_data/clinvar_donor_acceptor_chr22.vcf"
   ]
  },
  {
   "cell_type": "markdown",
   "metadata": {},
   "source": [
    "Now we will define path variable for vcf input and output paths and instantiate a VcfWriter, which will write out the annotated VCF:"
   ]
  },
  {
   "cell_type": "code",
   "execution_count": 4,
   "metadata": {},
   "outputs": [
    {
     "name": "stderr",
     "output_type": "stream",
     "text": [
      "/home/avsec/bin/anaconda3/lib/python3.6/site-packages/rpy2/rinterface/__init__.py:145: RRuntimeWarning: Loading required package: data.table\n",
      "\n",
      "  warnings.warn(x, RRuntimeWarning)\n",
      "/home/avsec/bin/anaconda3/lib/python3.6/site-packages/rpy2/rinterface/__init__.py:145: RRuntimeWarning: data.table 1.11.4  Latest news: http://r-datatable.com\n",
      "\n",
      "  warnings.warn(x, RRuntimeWarning)\n",
      "/home/avsec/bin/anaconda3/lib/python3.6/site-packages/rpy2/rinterface/__init__.py:145: RRuntimeWarning: Loading required package: lattice\n",
      "\n",
      "  warnings.warn(x, RRuntimeWarning)\n",
      "/home/avsec/bin/anaconda3/lib/python3.6/site-packages/rpy2/rinterface/__init__.py:145: RRuntimeWarning: Loading required package: ggplot2\n",
      "\n",
      "  warnings.warn(x, RRuntimeWarning)\n",
      "/home/avsec/bin/anaconda3/lib/python3.6/site-packages/rpy2/rinterface/__init__.py:145: RRuntimeWarning: Loading required package: parallel\n",
      "\n",
      "  warnings.warn(x, RRuntimeWarning)\n",
      "/home/avsec/bin/anaconda3/lib/python3.6/site-packages/rpy2/rinterface/__init__.py:145: RRuntimeWarning: Loading required package: magrittr\n",
      "\n",
      "  warnings.warn(x, RRuntimeWarning)\n"
     ]
    }
   ],
   "source": [
    "import kipoi_veff\n",
    "from kipoi_veff import VcfWriter\n",
    "# The input vcf path\n",
    "vcf_path = \"example_data/clinvar_donor_acceptor_chr22.vcf\"\n",
    "# The output vcf path, based on the input file name    \n",
    "out_vcf_fpath = vcf_path[:-4] + \"%s.vcf\"%model_name.replace(\"/\", \"_\")\n",
    "# The writer object that will output the annotated VCF\n",
    "writer = VcfWriter(model, vcf_path, out_vcf_fpath)"
   ]
  },
  {
   "cell_type": "markdown",
   "metadata": {},
   "source": [
    "Then we need to instantiate an object that can generate variant-centered regions (`SnvCenteredRg` objects). This class needs information on the model input sequence length which is extracted automatically within `ModelInfoExtractor` objects:"
   ]
  },
  {
   "cell_type": "code",
   "execution_count": 5,
   "metadata": {},
   "outputs": [],
   "source": [
    "# Information extraction from dataloader and model\n",
    "model_info = kipoi_veff.ModelInfoExtractor(model, Dataloader)\n",
    "# vcf_to_region will generate a variant-centered regions when presented a VCF record.\n",
    "vcf_to_region = kipoi_veff.SnvCenteredRg(model_info)"
   ]
  },
  {
   "cell_type": "markdown",
   "metadata": {},
   "source": [
    "Now we can define the required dataloader arguments, omitting the `intervals_file` as this will be replaced by the automatically generated bed file:"
   ]
  },
  {
   "cell_type": "code",
   "execution_count": 6,
   "metadata": {},
   "outputs": [],
   "source": [
    "dataloader_arguments = {\"fasta_file\": \"example_data/hg19_chr22.fa\"}"
   ]
  },
  {
   "cell_type": "markdown",
   "metadata": {},
   "source": [
    "This is the moment to run the variant effect prediction:"
   ]
  },
  {
   "cell_type": "code",
   "execution_count": 7,
   "metadata": {},
   "outputs": [
    {
     "name": "stderr",
     "output_type": "stream",
     "text": [
      "100%|██████████| 14/14 [00:01<00:00, 10.80it/s]\n"
     ]
    }
   ],
   "source": [
    "import kipoi_veff.snv_predict as sp\n",
    "from kipoi_veff.scores import Diff, DeepSEA_effect\n",
    "sp.predict_snvs(model,\n",
    "                Dataloader,\n",
    "                vcf_path,\n",
    "                batch_size = 32,\n",
    "                dataloader_args=dataloader_arguments,\n",
    "                vcf_to_region=vcf_to_region,\n",
    "                evaluation_function_kwargs={'diff_types': {'diff': Diff(\"mean\"), 'deepsea_effect': DeepSEA_effect(\"mean\")}},\n",
    "                sync_pred_writer=writer)"
   ]
  },
  {
   "cell_type": "markdown",
   "metadata": {},
   "source": [
    "In the example above we have used the variant scoring method `Diff` and `DeepSEA_effect` from `kipoi_veff` plug-in. As mentioned above variant scoring methods calculate the difference between predictions for reference and alternative, but there is another dimension to this: Models that have the `use_rc: true` flag set in their model.yaml file (DeepSEA/variantEffects does) will not only be queried with the reference and alternative carrying input sequences, but also with the reverse complement of the the sequences. In order to know of to combine predictions for forward and reverse sequences there is a initialisation flag (here set to: `\"mean\"`) for the variant scoring methods. `\"mean\"` in this case means that after calculating the effect (e.g.: Difference) the average over the difference between the prediction for the forward and for the reverse sequence should be returned. Setting `\"mean\"` complies with what was used in the Troyanskaya et al. publication.\n",
    "\n",
    "Now let's look at the output:"
   ]
  },
  {
   "cell_type": "code",
   "execution_count": 8,
   "metadata": {},
   "outputs": [
    {
     "name": "stdout",
     "output_type": "stream",
     "text": [
      "##fileformat=VCFv4.0\n",
      "##INFO=<ID=KV:kipoi:DeepSEA/variantEffects:DIFF,Number=.,Type=String,Description...\n",
      "##INFO=<ID=KV:kipoi:DeepSEA/variantEffects:DEEPSEA_EFFECT,Number=.,Type=String,D...\n",
      "##INFO=<ID=KV:kipoi:DeepSEA/variantEffects:rID,Number=.,Type=String,Description=...\n",
      "##FILTER=<ID=PASS,Description=\"All filters passed\">\n",
      "##contig=<ID=chr1,length=249250621>\n",
      "##contig=<ID=chr2,length=243199373>\n",
      "##contig=<ID=chr3,length=198022430>\n",
      "##contig=<ID=chr4,length=191154276>\n",
      "##contig=<ID=chr5,length=180915260>\n",
      "##contig=<ID=chr6,length=171115067>\n",
      "##contig=<ID=chr7,length=159138663>\n",
      "##contig=<ID=chr8,length=146364022>\n",
      "##contig=<ID=chr9,length=141213431>\n",
      "##contig=<ID=chr10,length=135534747>\n",
      "##contig=<ID=chr11,length=135006516>\n",
      "##contig=<ID=chr12,length=133851895>\n",
      "##contig=<ID=chr13,length=115169878>\n",
      "##contig=<ID=chr14,length=107349540>\n",
      "##contig=<ID=chr15,length=102531392>\n",
      "##contig=<ID=chr16,length=90354753>\n",
      "##contig=<ID=chr17,length=81195210>\n",
      "##contig=<ID=chr18,length=78077248>\n",
      "##contig=<ID=chr19,length=59128983>\n",
      "##contig=<ID=chr20,length=63025520>\n",
      "##contig=<ID=chr21,length=48129895>\n",
      "##contig=<ID=chr22,length=51304566>\n",
      "##contig=<ID=chrX,length=155270560>\n",
      "##contig=<ID=chrY,length=59373566>\n",
      "##contig=<ID=chrMT,length=16569>\n",
      "#CHROM\tPOS\tID\tREF\tALT\tQUAL\tFILTER\tINFO\n",
      "chr22\t41320486\t4\tG\tT\t.\t.\tKV:kipoi:DeepSEA/variantEffects:DIFF=-0.00285013|-0.000...\n",
      "chr22\t31009031\t9\tT\tG\t.\t.\tKV:kipoi:DeepSEA/variantEffects:DIFF=-0.02733292|-0.008...\n",
      "chr22\t43024150\t15\tC\tG\t.\t.\tKV:kipoi:DeepSEA/variantEffects:DIFF=0.01077357|0.0007...\n",
      "chr22\t43027392\t16\tA\tG\t.\t.\tKV:kipoi:DeepSEA/variantEffects:DIFF=-0.12174574|-0.24...\n",
      "chr22\t37469571\t122\tC\tT\t.\t.\tKV:kipoi:DeepSEA/variantEffects:DIFF=-0.00654626|0.00...\n",
      "chr22\t37465112\t123\tC\tG\t.\t.\tKV:kipoi:DeepSEA/variantEffects:DIFF=0.00574901|0.003...\n",
      "chr22\t37494466\t124\tG\tT\t.\t.\tKV:kipoi:DeepSEA/variantEffects:DIFF=0.01308710|0.001...\n",
      "chr22\t18561373\t177\tG\tT\t.\t.\tKV:kipoi:DeepSEA/variantEffects:DIFF=-0.00669506|0.00...\n",
      "chr22\t51065593\t241\tC\tT\t.\t.\tKV:kipoi:DeepSEA/variantEffects:DIFF=0.00409317|0.001...\n",
      "chr22\t51064006\t242\tC\tT\t.\t.\tKV:kipoi:DeepSEA/variantEffects:DIFF=0.00095595|0.000...\n"
     ]
    }
   ],
   "source": [
    "# Let's print out the first 40 lines of the annotated VCF (up to 80 characters per line maximum)\n",
    "with open(\"example_data/clinvar_donor_acceptor_chr22DeepSEA_variantEffects.vcf\") as ifh:\n",
    "    for i,l in enumerate(ifh):\n",
    "        long_line = \"\"\n",
    "        if len(l)>80:\n",
    "            long_line = \"...\"\n",
    "        print(l[:80].rstrip() +long_line)\n",
    "        if i >=40:\n",
    "            break"
   ]
  },
  {
   "cell_type": "markdown",
   "metadata": {},
   "source": [
    "This shows that variants have been annotated with variant effect scores. For every different scoring method a different INFO tag was created and the score of every model output is concantenated with the `|` separator symbol. A legend is given in the header section of the VCF. The name tag indicates with model was used, wich version of it and it displays the scoring function label (`DIFF`) which is derived from the scoring function label defined in the `evaluation_function_kwargs` dictionary (`'diff'`)."
   ]
  },
  {
   "cell_type": "markdown",
   "metadata": {},
   "source": [
    "The most comprehensive representation of effect preditions is in the annotated VCF. Kipoi offers a VCF parser class that enables simple parsing of annotated VCFs:"
   ]
  },
  {
   "cell_type": "code",
   "execution_count": 9,
   "metadata": {},
   "outputs": [
    {
     "name": "stdout",
     "output_type": "stream",
     "text": [
      "[('kipoi', 'DeepSEA/variantEffects', 'DIFF'), ('kipoi', 'DeepSEA/variantEffects', 'DEEPSEA_EFFECT'), ('kipoi', 'DeepSEA/variantEffects', 'rID')]\n"
     ]
    }
   ],
   "source": [
    "from kipoi_veff.parsers import KipoiVCFParser\n",
    "vcf_reader = KipoiVCFParser(\"example_data/clinvar_donor_acceptor_chr22DeepSEA_variantEffects.vcf\")\n",
    "\n",
    "#We can have a look at the different labels which were created in the VCF\n",
    "print(list(vcf_reader.kipoi_parsed_colnames.values()))"
   ]
  },
  {
   "cell_type": "markdown",
   "metadata": {},
   "source": [
    "We can see that two scores have been saved - `'DEEPSEA_EFFECT'` and `'DIFF'`. Additionally there is `'rID'` which is the region ID - that is the ID given by the dataloader for a genomic region which was overlapped with the variant to get the prediction that is listed in the effect score columns mentioned before. Let's take a look at the VCF entries:"
   ]
  },
  {
   "cell_type": "code",
   "execution_count": 10,
   "metadata": {},
   "outputs": [
    {
     "name": "stdout",
     "output_type": "stream",
     "text": [
      "  variant_id variant_chr  variant_pos variant_ref variant_alt  \\\n",
      "0          4       chr22     41320486           G           T   \n",
      "1          9       chr22     31009031           T           G   \n",
      "2         15       chr22     43024150           C           G   \n",
      "3         16       chr22     43027392           A           G   \n",
      "4        122       chr22     37469571           C           T   \n",
      "\n",
      "   KV_DeepSEA/variantEffects_DIFF_8988T_DNase_None_0  \\\n",
      "0                   -0.0029                            \n",
      "1                   -0.0273                            \n",
      "2                    0.0108                            \n",
      "3                   -0.1217                            \n",
      "4                   -0.0065                            \n",
      "\n",
      "   KV_DeepSEA/variantEffects_DIFF_AoSMC_DNase_None_1  \n",
      "0               -9.4300e-05                           \n",
      "1               -8.7400e-03                           \n",
      "2                7.0192e-04                           \n",
      "3               -2.4732e-01                           \n",
      "4                7.8431e-04                           \n"
     ]
    }
   ],
   "source": [
    "import pandas as pd\n",
    "entries = [el for el in vcf_reader]\n",
    "print(pd.DataFrame(entries).head().iloc[:,:7])"
   ]
  },
  {
   "cell_type": "markdown",
   "metadata": {},
   "source": [
    "Another way to access effect predicitons programmatically is to keep all the results in memory and receive them as a dictionary of pandas dataframes:\n"
   ]
  },
  {
   "cell_type": "code",
   "execution_count": 11,
   "metadata": {},
   "outputs": [
    {
     "name": "stderr",
     "output_type": "stream",
     "text": [
      "100%|██████████| 14/14 [00:00<00:00, 21.27it/s]\n"
     ]
    }
   ],
   "source": [
    "effects = sp.predict_snvs(model,\n",
    "            Dataloader,\n",
    "            vcf_path,\n",
    "            batch_size = 32,\n",
    "            dataloader_args=dataloader_arguments,\n",
    "            vcf_to_region=vcf_to_region,\n",
    "            evaluation_function_kwargs={'diff_types': {'diff': Diff(\"mean\"), 'deepsea_effect': DeepSEA_effect(\"mean\")}},\n",
    "            return_predictions=True)"
   ]
  },
  {
   "cell_type": "markdown",
   "metadata": {},
   "source": [
    "For every key in the `evaluation_function_kwargs` dictionary there is a key in `effects` and (the equivalent of an additional INFO tag in the VCF). Now let's take a look at the results:"
   ]
  },
  {
   "cell_type": "code",
   "execution_count": 12,
   "metadata": {},
   "outputs": [
    {
     "name": "stdout",
     "output_type": "stream",
     "text": [
      "diff\n",
      "                        8988T_DNase_None  AoSMC_DNase_None  Chorion_DNase_None  CLL_DNase_None\n",
      "chr22:41320486:G:['T']           -0.0029       -9.4300e-05             -0.0015         -0.0004\n",
      "chr22:31009031:T:['G']           -0.0273       -8.7400e-03             -0.0035         -0.0081\n",
      "chr22:43024150:C:['G']            0.0108        7.0192e-04              0.0047         -0.0006\n",
      "chr22:43027392:A:['G']           -0.1217       -2.4732e-01             -0.1677         -0.0107\n",
      "chr22:37469571:C:['T']           -0.0065        7.8431e-04             -0.0004         -0.0009\n",
      "--------------------------------------------------------------------------------\n",
      "deepsea_effect\n",
      "                        8988T_DNase_None  AoSMC_DNase_None  Chorion_DNase_None  CLL_DNase_None\n",
      "chr22:41320486:G:['T']            0.0004        9.6665e-07          1.6174e-04      3.9711e-05\n",
      "chr22:31009031:T:['G']            0.0041        3.6832e-03          2.0088e-04      2.1392e-03\n",
      "chr22:43024150:C:['G']            0.0016        1.8245e-04          3.2246e-04      3.3443e-05\n",
      "chr22:43027392:A:['G']            0.0684        2.6896e-01          1.3385e-01      7.7245e-04\n",
      "chr22:37469571:C:['T']            0.0012        4.1733e-04          7.5602e-06      7.8844e-05\n",
      "--------------------------------------------------------------------------------\n"
     ]
    }
   ],
   "source": [
    "for k in effects:\n",
    "    print(k)\n",
    "    print(effects[k].head().iloc[:,:4])\n",
    "    print(\"-\"*80)"
   ]
  },
  {
   "cell_type": "markdown",
   "metadata": {},
   "source": [
    "We see that for `diff` and `deepsea_effect` there is a dataframe with variant identifiers as rows and model output labels as columns. The DeepSEA model predicts 919 tasks simultaneously hence there are 919 columns in the dataframe."
   ]
  },
  {
   "cell_type": "markdown",
   "metadata": {},
   "source": [
    "## Overlap based prediction\n",
    "Models that cannot predict on every region of the genome might not accept a `.bed` file as dataloader input. An example of such a model is a splicing model. Those models only work in certain regions of the genome. Here variant effect prediction can be executed based on overlaps between the regions generated by the dataloader and the variants defined in the VCF:\n",
    "\n",
    "![img](../docs/theme_dir/img/notebooks/simple_var_overlap.png)\n",
    "The procedure is similar to the variant centered effect prediction explained above, but in this case no temporary bed file is generated and the effect prediction is based on all the regions generated by the dataloader which overlap any variant in the VCF. If a region is overlapped by two variants the effect of the two variants is predicted independently.\n",
    "\n",
    "Here the VCF has to be tabixed so that a regional lookup can be performed efficiently, this can be done by using the `ensure_tabixed` function, the rest remains the same as before:"
   ]
  },
  {
   "cell_type": "code",
   "execution_count": null,
   "metadata": {},
   "outputs": [],
   "source": []
  },
  {
   "cell_type": "code",
   "execution_count": 13,
   "metadata": {},
   "outputs": [
    {
     "name": "stdout",
     "output_type": "stream",
     "text": [
      "Using downloaded and verified file: /home/avsec/.kipoi/models/HAL/downloaded/model_files/pkl_file/4db740f6b72345db5303c106ed6aad61\n"
     ]
    }
   ],
   "source": [
    "import kipoi\n",
    "from kipoi_veff import VcfWriter\n",
    "from kipoi_veff import ensure_tabixed_vcf\n",
    "# Use a splicing model\n",
    "model_name = \"HAL\"\n",
    "# get the model\n",
    "model = kipoi.get_model(model_name)\n",
    "# get the dataloader factory\n",
    "Dataloader = kipoi.get_dataloader_factory(model_name)\n",
    "# The input vcf path\n",
    "vcf_path = \"example_data/clinvar_donor_acceptor_chr22.vcf\"\n",
    "\n",
    "# Make sure that the vcf is bgzipped and tabixed, if not then generate the compressed vcf in the same place\n",
    "vcf_path_tbx = ensure_tabixed_vcf(vcf_path)\n",
    "\n",
    "# The output vcf path, based on the input file name    \n",
    "out_vcf_fpath = vcf_path[:-4] + \"%s.vcf\"%model_name.replace(\"/\", \"_\")\n",
    "# The writer object that will output the annotated VCF\n",
    "writer = VcfWriter(model, vcf_path, out_vcf_fpath)"
   ]
  },
  {
   "cell_type": "markdown",
   "metadata": {},
   "source": [
    "This time we don't need an object that generates regions, hence we can directly define the dataloader arguments and run the prediction:"
   ]
  },
  {
   "cell_type": "code",
   "execution_count": 14,
   "metadata": {},
   "outputs": [
    {
     "name": "stderr",
     "output_type": "stream",
     "text": [
      "100%|██████████| 709/709 [00:03<00:00, 199.11it/s]\n"
     ]
    }
   ],
   "source": [
    "from kipoi_veff import predict_snvs\n",
    "from kipoi_veff.scores import Diff\n",
    "dataloader_arguments = {\"gtf_file\":\"example_data/Homo_sapiens.GRCh37.75.filtered_chr22.gtf\",\n",
    "                               \"fasta_file\": \"example_data/hg19_chr22.fa\"}\n",
    "\n",
    "effects = predict_snvs(model,\n",
    "                        Dataloader,\n",
    "                        vcf_path_tbx,\n",
    "                        batch_size = 32,\n",
    "                        dataloader_args=dataloader_arguments,\n",
    "                        evaluation_function_kwargs={'diff_types': {'diff': Diff(\"mean\")}},\n",
    "                        sync_pred_writer=writer,\n",
    "                        return_predictions=True)"
   ]
  },
  {
   "cell_type": "markdown",
   "metadata": {},
   "source": [
    "Let's have a look at the VCF:"
   ]
  },
  {
   "cell_type": "code",
   "execution_count": 15,
   "metadata": {},
   "outputs": [
    {
     "name": "stdout",
     "output_type": "stream",
     "text": [
      "##fileformat=VCFv4.0\n",
      "##INFO=<ID=KV:kipoi:HAL:DIFF,Number=.,Type=String,Description=\"DIFF SNV effect p...\n",
      "##INFO=<ID=KV:kipoi:HAL:rID,Number=.,Type=String,Description=\"Range or region id...\n",
      "##FILTER=<ID=PASS,Description=\"All filters passed\">\n",
      "##contig=<ID=chr1,length=249250621>\n",
      "##contig=<ID=chr2,length=243199373>\n",
      "##contig=<ID=chr3,length=198022430>\n",
      "##contig=<ID=chr4,length=191154276>\n",
      "##contig=<ID=chr5,length=180915260>\n",
      "##contig=<ID=chr6,length=171115067>\n",
      "##contig=<ID=chr7,length=159138663>\n",
      "##contig=<ID=chr8,length=146364022>\n",
      "##contig=<ID=chr9,length=141213431>\n",
      "##contig=<ID=chr10,length=135534747>\n",
      "##contig=<ID=chr11,length=135006516>\n",
      "##contig=<ID=chr12,length=133851895>\n",
      "##contig=<ID=chr13,length=115169878>\n",
      "##contig=<ID=chr14,length=107349540>\n",
      "##contig=<ID=chr15,length=102531392>\n",
      "##contig=<ID=chr16,length=90354753>\n",
      "##contig=<ID=chr17,length=81195210>\n",
      "##contig=<ID=chr18,length=78077248>\n",
      "##contig=<ID=chr19,length=59128983>\n",
      "##contig=<ID=chr20,length=63025520>\n",
      "##contig=<ID=chr21,length=48129895>\n",
      "##contig=<ID=chr22,length=51304566>\n",
      "##contig=<ID=chrX,length=155270560>\n",
      "##contig=<ID=chrY,length=59373566>\n",
      "##contig=<ID=chrMT,length=16569>\n",
      "#CHROM\tPOS\tID\tREF\tALT\tQUAL\tFILTER\tINFO\n",
      "chr22\t17684454\t4461\tG\tA\t.\t.\tKV:kipoi:HAL:DIFF=0.10586491;KV:kipoi:HAL:rID=290\n",
      "chr22\t17669232\t7178\tT\tC\t.\t.\tKV:kipoi:HAL:DIFF=0.00000000;KV:kipoi:HAL:rID=293\n",
      "chr22\t17669232\t7178\tT\tC\t.\t.\tKV:kipoi:HAL:DIFF=0.00000000;KV:kipoi:HAL:rID=299\n",
      "chr22\t17684454\t4461\tG\tA\t.\t.\tKV:kipoi:HAL:DIFF=0.10586491;KV:kipoi:HAL:rID=304\n",
      "chr22\t17669232\t7178\tT\tC\t.\t.\tKV:kipoi:HAL:DIFF=0.00000000;KV:kipoi:HAL:rID=307\n",
      "chr22\t17684454\t4461\tG\tA\t.\t.\tKV:kipoi:HAL:DIFF=0.10586491;KV:kipoi:HAL:rID=313\n",
      "chr22\t17669232\t7178\tT\tC\t.\t.\tKV:kipoi:HAL:DIFF=0.00000000;KV:kipoi:HAL:rID=316\n",
      "chr22\t17684454\t4461\tG\tA\t.\t.\tKV:kipoi:HAL:DIFF=0.10586491;KV:kipoi:HAL:rID=322\n",
      "chr22\t17669232\t7178\tT\tC\t.\t.\tKV:kipoi:HAL:DIFF=0.00000000;KV:kipoi:HAL:rID=325\n",
      "chr22\t17669232\t7178\tT\tC\t.\t.\tKV:kipoi:HAL:DIFF=0.00000000;KV:kipoi:HAL:rID=328\n",
      "chr22\t18561370\t7302\tC\tT\t.\t.\tKV:kipoi:HAL:DIFF=-1.33794269;KV:kipoi:HAL:rID=824\n"
     ]
    }
   ],
   "source": [
    "# A slightly convoluted way of printing out the first 40 lines and up to 80 characters per line maximum\n",
    "with open(\"example_data/clinvar_donor_acceptor_chr22HAL.vcf\") as ifh:\n",
    "    for i,l in enumerate(ifh):\n",
    "        long_line = \"\"\n",
    "        if len(l)>80:\n",
    "            long_line = \"...\"\n",
    "        print(l[:80].rstrip() +long_line)\n",
    "        if i >=40:\n",
    "            break"
   ]
  },
  {
   "cell_type": "markdown",
   "metadata": {},
   "source": [
    "And the prediction output this time is less helpful because it's the ids that the dataloader created which are displayed as index. In general it is advisable to use the output VCF for more detailed information on which variant was overlapped with which region fo produce a prediction."
   ]
  },
  {
   "cell_type": "code",
   "execution_count": 16,
   "metadata": {},
   "outputs": [
    {
     "name": "stdout",
     "output_type": "stream",
     "text": [
      "diff\n",
      "          0\n",
      "290  0.1059\n",
      "293  0.0000\n",
      "299  0.0000\n",
      "304  0.1059\n",
      "307  0.0000\n",
      "--------------------------------------------------------------------------------\n"
     ]
    }
   ],
   "source": [
    "for k in effects:\n",
    "    print(k)\n",
    "    print(effects[k].head())\n",
    "    print(\"-\"*80)"
   ]
  },
  {
   "cell_type": "markdown",
   "metadata": {},
   "source": [
    "## Command-line based effect prediction\n",
    "The above command can also conveniently be executed using the command line:\n"
   ]
  },
  {
   "cell_type": "code",
   "execution_count": 17,
   "metadata": {},
   "outputs": [
    {
     "name": "stdout",
     "output_type": "stream",
     "text": [
      "kipoi veff score_variants DeepSEA/variantEffects --dataloader_args='{\"fasta_file\": \"example_data/hg19_chr22.fa\"}' -i example_data/clinvar_donor_acceptor_chr22.vcf -o example_data/clinvar_donor_acceptor_chr22DeepSEA_variantEffects.vcf -s diff deepsea_effect\n"
     ]
    }
   ],
   "source": [
    "import json\n",
    "import os\n",
    "model_name = \"DeepSEA/variantEffects\"\n",
    "dl_args = json.dumps({\"fasta_file\": \"example_data/hg19_chr22.fa\"})\n",
    "out_vcf_fpath = vcf_path[:-4] + \"%s.vcf\"%model_name.replace(\"/\", \"_\")\n",
    "scorings = \"diff deepsea_effect\"\n",
    "command = (\"kipoi veff score_variants {model} \"\n",
    "           \"--dataloader_args='{dl_args}' \"\n",
    "           \"-i {input_vcf} \"\n",
    "           \"-o {output_vcf} \"\n",
    "           \"-s {scorings}\").format(model=model_name,\n",
    "                                          dl_args=dl_args,\n",
    "                                          input_vcf=vcf_path,\n",
    "                                          output_vcf=out_vcf_fpath,\n",
    "                                          scorings=scorings)\n",
    "# Print out the command:\n",
    "print(command)"
   ]
  },
  {
   "cell_type": "code",
   "execution_count": 18,
   "metadata": {},
   "outputs": [
    {
     "name": "stdout",
     "output_type": "stream",
     "text": [
      "INFO [kipoi.sources] Update /home/avsec/.kipoi/models/\n",
      "Already up to date.\n",
      "INFO [kipoi.model] Downloading model arguments weights from https://zenodo.org/record/1466993/files/deepsea_variant_effects.pth?download=1\n",
      "Using downloaded and verified file: /home/avsec/.kipoi/models/DeepSEA/variantEffects/downloaded/model_files/weights/35956ab9c28960b5a3693f470fe980c1\n",
      "INFO [kipoi.pipeline] dataloader.output_schema is compatible with model.schema\n",
      "/home/avsec/bin/anaconda3/lib/python3.6/site-packages/rpy2/rinterface/__init__.py:145: RRuntimeWarning: Loading required package: data.table\n",
      "\n",
      "  warnings.warn(x, RRuntimeWarning)\n",
      "/home/avsec/bin/anaconda3/lib/python3.6/site-packages/rpy2/rinterface/__init__.py:145: RRuntimeWarning: data.table 1.11.4  Latest news: http://r-datatable.com\n",
      "\n",
      "  warnings.warn(x, RRuntimeWarning)\n",
      "/home/avsec/bin/anaconda3/lib/python3.6/site-packages/rpy2/rinterface/__init__.py:145: RRuntimeWarning: Loading required package: lattice\n",
      "\n",
      "  warnings.warn(x, RRuntimeWarning)\n",
      "/home/avsec/bin/anaconda3/lib/python3.6/site-packages/rpy2/rinterface/__init__.py:145: RRuntimeWarning: Loading required package: ggplot2\n",
      "\n",
      "  warnings.warn(x, RRuntimeWarning)\n",
      "/home/avsec/bin/anaconda3/lib/python3.6/site-packages/rpy2/rinterface/__init__.py:145: RRuntimeWarning: Loading required package: parallel\n",
      "\n",
      "  warnings.warn(x, RRuntimeWarning)\n",
      "/home/avsec/bin/anaconda3/lib/python3.6/site-packages/rpy2/rinterface/__init__.py:145: RRuntimeWarning: Loading required package: magrittr\n",
      "\n",
      "  warnings.warn(x, RRuntimeWarning)\n",
      "100%|███████████████████████████████████████████| 14/14 [00:01<00:00, 10.99it/s]\n"
     ]
    }
   ],
   "source": [
    "! $command"
   ]
  },
  {
   "cell_type": "markdown",
   "metadata": {},
   "source": [
    "## Batch prediction\n",
    "Since the syntax basically doesn't change for different kinds of models a simple for-loop can be written to do what we just did on many models:"
   ]
  },
  {
   "cell_type": "code",
   "execution_count": 20,
   "metadata": {},
   "outputs": [
    {
     "name": "stderr",
     "output_type": "stream",
     "text": [
      "/home/avsec/workspace/kipoi/kipoi/kipoi/config.py:130: FutureWarning: Sorting because non-concatenation axis is not aligned. A future version\n",
      "of pandas will change to not sort by default.\n",
      "\n",
      "To accept the future behavior, pass 'sort=False'.\n",
      "\n",
      "To retain the current behavior and silence the warning, pass 'sort=True'.\n",
      "\n",
      "  return pd.concat(pd_list)[pd_list[0].columns]\n"
     ]
    }
   ],
   "source": [
    "import kipoi\n",
    "# Run effect predicton\n",
    "models_df = kipoi.list_models()\n",
    "models_substr = [\"HAL\", \"MaxEntScan\", \"labranchor\", \"rbp\"]\n",
    "models_df_subsets = {ms: models_df.loc[models_df[\"model\"].str.contains(ms)] for ms in models_substr}"
   ]
  },
  {
   "cell_type": "code",
   "execution_count": null,
   "metadata": {},
   "outputs": [
    {
     "name": "stdout",
     "output_type": "stream",
     "text": [
      "Using downloaded and verified file: /home/avsec/.kipoi/models/HAL/downloaded/model_files/pkl_file/4db740f6b72345db5303c106ed6aad61\n",
      "HAL\n"
     ]
    },
    {
     "name": "stderr",
     "output_type": "stream",
     "text": [
      "100%|██████████| 709/709 [00:03<00:00, 203.11it/s]\n"
     ]
    },
    {
     "name": "stdout",
     "output_type": "stream",
     "text": [
      "MaxEntScan/5prime\n"
     ]
    },
    {
     "name": "stderr",
     "output_type": "stream",
     "text": [
      "100%|██████████| 709/709 [00:01<00:00, 432.30it/s]\n"
     ]
    },
    {
     "name": "stdout",
     "output_type": "stream",
     "text": [
      "Downloading https://zenodo.org/record/1466095/files/labranchor.h5?download=1 to /home/avsec/.kipoi/models/labranchor/downloaded/model_files/weights/1a93565c200740419fdd2c828eb467f7\n"
     ]
    },
    {
     "name": "stderr",
     "output_type": "stream",
     "text": [
      "451kB [00:00, 522kB/s]                           \n",
      "/home/avsec/bin/anaconda3/lib/python3.6/site-packages/h5py/__init__.py:36: FutureWarning: Conversion of the second argument of issubdtype from `float` to `np.floating` is deprecated. In future, it will be treated as `np.float64 == np.dtype(float).type`.\n",
      "  from ._conv import register_converters as _register_converters\n",
      "Using TensorFlow backend.\n",
      "/home/avsec/bin/anaconda3/lib/python3.6/importlib/_bootstrap.py:219: RuntimeWarning: compiletime version 3.5 of module 'tensorflow.python.framework.fast_tensor_util' does not match runtime version 3.6\n",
      "  return f(*args, **kwds)\n",
      "/home/avsec/bin/anaconda3/lib/python3.6/site-packages/keras/models.py:291: UserWarning: Error in loading the saved optimizer state. As a result, your model is starting with a freshly initialized optimizer.\n",
      "  warnings.warn('Error in loading the saved optimizer '\n"
     ]
    },
    {
     "name": "stdout",
     "output_type": "stream",
     "text": [
      "labranchor\n"
     ]
    },
    {
     "name": "stderr",
     "output_type": "stream",
     "text": [
      "100%|██████████| 709/709 [00:15<00:00, 44.35it/s]\n",
      "2018-11-27 00:07:27,276 [INFO] Downloading dataloader default arguments position_transformer_file from https://sandbox.zenodo.org/record/248594/files/AARS.dataloader.pkl?download=1\n"
     ]
    },
    {
     "name": "stdout",
     "output_type": "stream",
     "text": [
      "Downloading https://sandbox.zenodo.org/record/248594/files/AARS.dataloader.pkl?download=1 to /home/avsec/.kipoi/models/rbp_eclip/downloaded/dataloader_files/AARS/f04f130ec0f0635ee5c9f5fea64c628c\n"
     ]
    },
    {
     "name": "stderr",
     "output_type": "stream",
     "text": [
      "8.19kB [00:01, 7.97kB/s]                   \n",
      "2018-11-27 00:07:28,314 [INFO] successfully loaded the dataloader rbp_eclip/AARS/. from /home/avsec/.kipoi/models/rbp_eclip/dataloader.SeqDistDataset\n",
      "2018-11-27 00:07:28,317 [INFO] Downloading model arguments weights from https://zenodo.org/record/1466102/files/AARS.h5?download=1\n"
     ]
    },
    {
     "name": "stdout",
     "output_type": "stream",
     "text": [
      "Downloading https://zenodo.org/record/1466102/files/AARS.h5?download=1 to /home/avsec/.kipoi/models/rbp_eclip/downloaded/model_files/AARS/weights/7324fd25fb6760666d2148c6bec34944\n"
     ]
    },
    {
     "name": "stderr",
     "output_type": "stream",
     "text": [
      "549kB [00:01, 466kB/s]                           \n",
      "2018-11-27 00:07:29,503 [INFO] Using image_dim_ordering: tf\n",
      "/home/avsec/bin/anaconda3/lib/python3.6/site-packages/keras/models.py:291: UserWarning: Error in loading the saved optimizer state. As a result, your model is starting with a freshly initialized optimizer.\n",
      "  warnings.warn('Error in loading the saved optimizer '\n",
      "2018-11-27 00:07:31,284 [INFO] successfully loaded the model from /home/avsec/.kipoi/models/rbp_eclip/downloaded/model_files/AARS/weights/7324fd25fb6760666d2148c6bec34944\n",
      "2018-11-27 00:07:31,287 [INFO] dataloader.output_schema is compatible with model.schema\n"
     ]
    },
    {
     "name": "stdout",
     "output_type": "stream",
     "text": [
      "rbp_eclip/AARS\n"
     ]
    },
    {
     "name": "stderr",
     "output_type": "stream",
     "text": [
      "2018-11-27 00:07:32,210 [INFO] Extracted GTF attributes: ['gene_id', 'gene_name', 'gene_source', 'gene_biotype', 'transcript_id', 'transcript_name', 'transcript_source', 'exon_number', 'exon_id', 'tag', 'protein_id', 'ccds_id']\n",
      "/home/avsec/bin/anaconda3/lib/python3.6/site-packages/sklearn/base.py:311: UserWarning: Trying to unpickle estimator MinMaxScaler from version 0.18.1 when using version 0.19.1. This might lead to breaking code or invalid results. Use at your own risk.\n",
      "  UserWarning)\n",
      "/home/avsec/bin/anaconda3/lib/python3.6/site-packages/sklearn/base.py:311: UserWarning: Trying to unpickle estimator Imputer from version 0.18.1 when using version 0.19.1. This might lead to breaking code or invalid results. Use at your own risk.\n",
      "  UserWarning)\n",
      "  0%|          | 0/14 [00:00<?, ?it/s]INFO:2018-11-27 00:07:32,497:genomelake] Running landmark extractors..\n",
      "2018-11-27 00:07:32,497 [INFO] Running landmark extractors..\n",
      "/home/avsec/bin/anaconda3/lib/python3.6/site-packages/concise/utils/position.py:55: FutureWarning: from_items is deprecated. Please use DataFrame.from_dict(dict(items), ...) instead. DataFrame.from_dict(OrderedDict(items)) may be used to preserve the key order.\n",
      "  (\"strand\", gtf.strand)])\n",
      "/home/avsec/bin/anaconda3/lib/python3.6/site-packages/concise/utils/position.py:62: FutureWarning: from_items is deprecated. Please use DataFrame.from_dict(dict(items), ...) instead. DataFrame.from_dict(OrderedDict(items)) may be used to preserve the key order.\n",
      "  (\"strand\", gtf.strand)])\n",
      "INFO:2018-11-27 00:07:32,652:genomelake] Done!\n",
      "2018-11-27 00:07:32,652 [INFO] Done!\n"
     ]
    }
   ],
   "source": [
    "# Run variant effect prediction using a basic Diff\n",
    "\n",
    "import kipoi\n",
    "from kipoi_veff import ensure_tabixed_vcf\n",
    "import kipoi_veff.snv_predict as sp\n",
    "from kipoi_veff import VcfWriter\n",
    "from kipoi_veff.scores import Diff\n",
    "\n",
    "\n",
    "\n",
    "splicing_dl_args = {\"gtf_file\":\"example_data/Homo_sapiens.GRCh37.75.filtered_chr22.gtf\",\n",
    "                               \"fasta_file\": \"example_data/hg19_chr22.fa\"}\n",
    "dataloader_args_dict = {\"HAL\": splicing_dl_args,\n",
    "                        \"labranchor\": splicing_dl_args,\n",
    "                        \"MaxEntScan\":splicing_dl_args,\n",
    "                        \"rbp\": {\"fasta_file\": \"example_data/hg19_chr22.fa\",\n",
    "                               \"gtf_file\":\"example_data/Homo_sapiens.GRCh37.75_chr22.gtf\"}\n",
    "                       }\n",
    "\n",
    "for ms in models_substr:\n",
    "    model_name = models_df_subsets[ms][\"model\"].iloc[0]\n",
    "    #kipoi.pipeline.install_model_requirements(model_name)\n",
    "    model = kipoi.get_model(model_name)\n",
    "    vcf_path = \"example_data/clinvar_donor_acceptor_chr22.vcf\"\n",
    "    vcf_path_tbx = ensure_tabixed_vcf(vcf_path)\n",
    "    \n",
    "    out_vcf_fpath = vcf_path[:-4] + \"%s.vcf\"%model_name.replace(\"/\", \"_\")\n",
    "\n",
    "    writer = VcfWriter(model, vcf_path, out_vcf_fpath)\n",
    "    \n",
    "    print(model_name)\n",
    "    \n",
    "    Dataloader = model.default_dataloader\n",
    "    dataloader_arguments = dataloader_args_dict[ms]\n",
    "    model_info = kipoi_veff.ModelInfoExtractor(model, Dataloader)\n",
    "    vcf_to_region = None\n",
    "    if ms == \"rbp\":\n",
    "        vcf_to_region = kipoi_veff.SnvCenteredRg(model_info)\n",
    "    sp.predict_snvs(model,\n",
    "                    Dataloader,\n",
    "                    vcf_path_tbx,\n",
    "                    batch_size = 32,\n",
    "                    dataloader_args=dataloader_arguments,\n",
    "                    vcf_to_region=vcf_to_region,\n",
    "                    evaluation_function_kwargs={'diff_types': {'diff': Diff(\"mean\")}},\n",
    "                    sync_pred_writer=writer)\n",
    "    writer.close()"
   ]
  },
  {
   "cell_type": "markdown",
   "metadata": {},
   "source": [
    "let's validate that things have worked:"
   ]
  },
  {
   "cell_type": "code",
   "execution_count": 1,
   "metadata": {},
   "outputs": [
    {
     "name": "stdout",
     "output_type": "stream",
     "text": [
      "    447 example_data/clinvar_donor_acceptor_chr22.vcf\n",
      "    450 example_data/clinvar_donor_acceptor_chr22DeepSEA_variantEffects.vcf\n",
      "   2035 example_data/clinvar_donor_acceptor_chr22HAL.vcf\n",
      "    794 example_data/clinvar_donor_acceptor_chr22MaxEntScan_5prime.vcf\n",
      "    794 example_data/clinvar_donor_acceptor_chr22labranchor.vcf\n",
      "   4520 total\n"
     ]
    }
   ],
   "source": [
    "! wc -l example_data/clinvar_donor_acceptor_chr22*.vcf"
   ]
  }
 ],
 "metadata": {
  "kernelspec": {
   "display_name": "Python [default]",
   "language": "python",
   "name": "python3"
  },
  "language_info": {
   "codemirror_mode": {
    "name": "ipython",
    "version": 3
   },
   "file_extension": ".py",
   "mimetype": "text/x-python",
   "name": "python",
   "nbconvert_exporter": "python",
   "pygments_lexer": "ipython3",
   "version": "3.6.6"
  }
 },
 "nbformat": 4,
 "nbformat_minor": 2
}
